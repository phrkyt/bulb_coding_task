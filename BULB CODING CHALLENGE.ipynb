{
 "cells": [
  {
   "cell_type": "markdown",
   "metadata": {},
   "source": [
    "# BULB CODING CHALLENGE"
   ]
  },
  {
   "cell_type": "markdown",
   "metadata": {},
   "source": [
    "An analysis of member referrals at Bulb is requested. A sample dataset is provided with customer sign up meta data consisting of sign up dates, sign up channels, refferer, referral date\n",
    "\n",
    "The ask is for analysing the data with a goal of suggesting methods to increase member referrals "
   ]
  },
  {
   "cell_type": "markdown",
   "metadata": {},
   "source": [
    "### Load Sample Data"
   ]
  },
  {
   "cell_type": "code",
   "execution_count": 108,
   "metadata": {},
   "outputs": [],
   "source": [
    "import pandas as pd\n",
    "import numpy as np\n",
    "import scipy as sp\n",
    "import matplotlib.pyplot as plt\n",
    "from sklearn import preprocessing as prep\n",
    "import seaborn as sns"
   ]
  },
  {
   "cell_type": "code",
   "execution_count": 5,
   "metadata": {},
   "outputs": [],
   "source": [
    "cust=pd.read_csv('180601_Customer_Info.csv')"
   ]
  },
  {
   "cell_type": "code",
   "execution_count": 6,
   "metadata": {},
   "outputs": [
    {
     "data": {
      "text/html": [
       "<div>\n",
       "<style scoped>\n",
       "    .dataframe tbody tr th:only-of-type {\n",
       "        vertical-align: middle;\n",
       "    }\n",
       "\n",
       "    .dataframe tbody tr th {\n",
       "        vertical-align: top;\n",
       "    }\n",
       "\n",
       "    .dataframe thead th {\n",
       "        text-align: right;\n",
       "    }\n",
       "</style>\n",
       "<table border=\"1\" class=\"dataframe\">\n",
       "  <thead>\n",
       "    <tr style=\"text-align: right;\">\n",
       "      <th></th>\n",
       "      <th>customer_id</th>\n",
       "      <th>sign_up_date</th>\n",
       "      <th>sign_up_channel</th>\n",
       "    </tr>\n",
       "  </thead>\n",
       "  <tbody>\n",
       "    <tr>\n",
       "      <th>0</th>\n",
       "      <td>2543</td>\n",
       "      <td>2021-04-26</td>\n",
       "      <td>Price Comparison Website</td>\n",
       "    </tr>\n",
       "    <tr>\n",
       "      <th>1</th>\n",
       "      <td>2181</td>\n",
       "      <td>2021-07-24</td>\n",
       "      <td>Referral</td>\n",
       "    </tr>\n",
       "    <tr>\n",
       "      <th>2</th>\n",
       "      <td>2399</td>\n",
       "      <td>2020-10-11</td>\n",
       "      <td>Bulb Website</td>\n",
       "    </tr>\n",
       "    <tr>\n",
       "      <th>3</th>\n",
       "      <td>674</td>\n",
       "      <td>2021-04-04</td>\n",
       "      <td>Referral</td>\n",
       "    </tr>\n",
       "    <tr>\n",
       "      <th>4</th>\n",
       "      <td>2332</td>\n",
       "      <td>2021-09-05</td>\n",
       "      <td>Price Comparison Website</td>\n",
       "    </tr>\n",
       "  </tbody>\n",
       "</table>\n",
       "</div>"
      ],
      "text/plain": [
       "   customer_id sign_up_date           sign_up_channel\n",
       "0         2543   2021-04-26  Price Comparison Website\n",
       "1         2181   2021-07-24                  Referral\n",
       "2         2399   2020-10-11              Bulb Website\n",
       "3          674   2021-04-04                  Referral\n",
       "4         2332   2021-09-05  Price Comparison Website"
      ]
     },
     "execution_count": 6,
     "metadata": {},
     "output_type": "execute_result"
    }
   ],
   "source": [
    "cust.head()"
   ]
  },
  {
   "cell_type": "code",
   "execution_count": 7,
   "metadata": {},
   "outputs": [],
   "source": [
    "reff=pd.read_csv('180601_Referrals_Info.csv')"
   ]
  },
  {
   "cell_type": "code",
   "execution_count": 8,
   "metadata": {},
   "outputs": [
    {
     "data": {
      "text/html": [
       "<div>\n",
       "<style scoped>\n",
       "    .dataframe tbody tr th:only-of-type {\n",
       "        vertical-align: middle;\n",
       "    }\n",
       "\n",
       "    .dataframe tbody tr th {\n",
       "        vertical-align: top;\n",
       "    }\n",
       "\n",
       "    .dataframe thead th {\n",
       "        text-align: right;\n",
       "    }\n",
       "</style>\n",
       "<table border=\"1\" class=\"dataframe\">\n",
       "  <thead>\n",
       "    <tr style=\"text-align: right;\">\n",
       "      <th></th>\n",
       "      <th>referral_date</th>\n",
       "      <th>referrer_customer_id</th>\n",
       "      <th>sign_up_customer_id</th>\n",
       "    </tr>\n",
       "  </thead>\n",
       "  <tbody>\n",
       "    <tr>\n",
       "      <th>0</th>\n",
       "      <td>2021-07-18</td>\n",
       "      <td>795</td>\n",
       "      <td>1771</td>\n",
       "    </tr>\n",
       "    <tr>\n",
       "      <th>1</th>\n",
       "      <td>2021-04-12</td>\n",
       "      <td>577</td>\n",
       "      <td>1510</td>\n",
       "    </tr>\n",
       "    <tr>\n",
       "      <th>2</th>\n",
       "      <td>2021-07-07</td>\n",
       "      <td>868</td>\n",
       "      <td>1858</td>\n",
       "    </tr>\n",
       "    <tr>\n",
       "      <th>3</th>\n",
       "      <td>2021-10-25</td>\n",
       "      <td>801</td>\n",
       "      <td>1778</td>\n",
       "    </tr>\n",
       "    <tr>\n",
       "      <th>4</th>\n",
       "      <td>2021-08-15</td>\n",
       "      <td>690</td>\n",
       "      <td>1637</td>\n",
       "    </tr>\n",
       "  </tbody>\n",
       "</table>\n",
       "</div>"
      ],
      "text/plain": [
       "  referral_date  referrer_customer_id  sign_up_customer_id\n",
       "0    2021-07-18                   795                 1771\n",
       "1    2021-04-12                   577                 1510\n",
       "2    2021-07-07                   868                 1858\n",
       "3    2021-10-25                   801                 1778\n",
       "4    2021-08-15                   690                 1637"
      ]
     },
     "execution_count": 8,
     "metadata": {},
     "output_type": "execute_result"
    }
   ],
   "source": [
    "reff.head()"
   ]
  },
  {
   "cell_type": "markdown",
   "metadata": {},
   "source": [
    "### Investigate Sample Data"
   ]
  },
  {
   "cell_type": "code",
   "execution_count": 12,
   "metadata": {},
   "outputs": [
    {
     "data": {
      "text/plain": [
       "'2019-05-07'"
      ]
     },
     "execution_count": 12,
     "metadata": {},
     "output_type": "execute_result"
    }
   ],
   "source": [
    "cust.sign_up_date.min()"
   ]
  },
  {
   "cell_type": "code",
   "execution_count": 13,
   "metadata": {},
   "outputs": [
    {
     "data": {
      "text/plain": [
       "'2022-01-03'"
      ]
     },
     "execution_count": 13,
     "metadata": {},
     "output_type": "execute_result"
    }
   ],
   "source": [
    "cust.sign_up_date.max()"
   ]
  },
  {
   "cell_type": "markdown",
   "metadata": {},
   "source": [
    "Customer information is over the span of *972 days from the first date to the last date, but not including the last date.\n",
    "Or 2 years, 7 months, 27 days excluding the last date. Or 31 months, 27 days excluding the last date* \n",
    "\n",
    "Sign up dates in the future suggest this is not real data. But assuming that Bulb has been around for 5 years, it is a faily large sample"
   ]
  },
  {
   "cell_type": "code",
   "execution_count": 14,
   "metadata": {},
   "outputs": [
    {
     "data": {
      "text/plain": [
       "'2020-03-13'"
      ]
     },
     "execution_count": 14,
     "metadata": {},
     "output_type": "execute_result"
    }
   ],
   "source": [
    "reff.referral_date.min()"
   ]
  },
  {
   "cell_type": "code",
   "execution_count": 15,
   "metadata": {},
   "outputs": [
    {
     "data": {
      "text/plain": [
       "'2022-01-03'"
      ]
     },
     "execution_count": 15,
     "metadata": {},
     "output_type": "execute_result"
    }
   ],
   "source": [
    "reff.referral_date.max()"
   ]
  },
  {
   "cell_type": "code",
   "execution_count": 20,
   "metadata": {},
   "outputs": [
    {
     "data": {
      "text/plain": [
       "['Price Comparison Website', 'Referral', 'Bulb Website']"
      ]
     },
     "execution_count": 20,
     "metadata": {},
     "output_type": "execute_result"
    }
   ],
   "source": [
    "cust['sign_up_channel'].unique().tolist()"
   ]
  },
  {
   "cell_type": "code",
   "execution_count": 158,
   "metadata": {},
   "outputs": [
    {
     "data": {
      "text/plain": [
       "sign_up_channel\n",
       "Bulb Website                354\n",
       "Price Comparison Website    780\n",
       "Referral                    565\n",
       "dtype: int64"
      ]
     },
     "execution_count": 158,
     "metadata": {},
     "output_type": "execute_result"
    }
   ],
   "source": [
    "cust.groupby(['sign_up_channel']).size()"
   ]
  },
  {
   "cell_type": "code",
   "execution_count": 169,
   "metadata": {},
   "outputs": [
    {
     "data": {
      "text/plain": [
       "Text(0.5,1,'Sign-ups by Channel')"
      ]
     },
     "execution_count": 169,
     "metadata": {},
     "output_type": "execute_result"
    },
    {
     "data": {
      "image/png": "[encoded data removed]",
      "text/plain": [
       "<matplotlib.figure.Figure at 0x1cb297445c0>"
      ]
     },
     "metadata": {},
     "output_type": "display_data"
    }
   ],
   "source": [
    "cust.groupby(['sign_up_channel']).size().plot.pie(autopct='%1.1f%%')\n",
    "plt.title(\"Sign-ups by Channel\")"
   ]
  },
  {
   "cell_type": "markdown",
   "metadata": {},
   "source": [
    "The highest number of sign ups are from Price Comparison websites followed by referrals and then the Bulb website. There is scope for increasing sign ups through increased visibility of the website."
   ]
  },
  {
   "cell_type": "code",
   "execution_count": 41,
   "metadata": {},
   "outputs": [
    {
     "data": {
      "text/html": [
       "<div>\n",
       "<style scoped>\n",
       "    .dataframe tbody tr th:only-of-type {\n",
       "        vertical-align: middle;\n",
       "    }\n",
       "\n",
       "    .dataframe tbody tr th {\n",
       "        vertical-align: top;\n",
       "    }\n",
       "\n",
       "    .dataframe thead th {\n",
       "        text-align: right;\n",
       "    }\n",
       "</style>\n",
       "<table border=\"1\" class=\"dataframe\">\n",
       "  <thead>\n",
       "    <tr style=\"text-align: right;\">\n",
       "      <th></th>\n",
       "      <th>customer_id</th>\n",
       "      <th>sign_up_date</th>\n",
       "      <th>sign_up_channel</th>\n",
       "    </tr>\n",
       "  </thead>\n",
       "  <tbody>\n",
       "    <tr>\n",
       "      <th>53</th>\n",
       "      <td>116</td>\n",
       "      <td>2020-05-07</td>\n",
       "      <td>Price Comparison Website</td>\n",
       "    </tr>\n",
       "    <tr>\n",
       "      <th>1380</th>\n",
       "      <td>116</td>\n",
       "      <td>2020-10-27</td>\n",
       "      <td>Bulb Website</td>\n",
       "    </tr>\n",
       "  </tbody>\n",
       "</table>\n",
       "</div>"
      ],
      "text/plain": [
       "      customer_id sign_up_date           sign_up_channel\n",
       "53            116   2020-05-07  Price Comparison Website\n",
       "1380          116   2020-10-27              Bulb Website"
      ]
     },
     "execution_count": 41,
     "metadata": {},
     "output_type": "execute_result"
    }
   ],
   "source": [
    "cust[cust['customer_id'].duplicated(keep=False)]"
   ]
  },
  {
   "cell_type": "markdown",
   "metadata": {},
   "source": [
    "One duplicate entry for customer sign ups exists with very different sign up dates. This is perhaps erroneous data or recycled customer id. We will include this entry in our analysis"
   ]
  },
  {
   "cell_type": "code",
   "execution_count": 43,
   "metadata": {},
   "outputs": [
    {
     "data": {
      "text/html": [
       "<div>\n",
       "<style scoped>\n",
       "    .dataframe tbody tr th:only-of-type {\n",
       "        vertical-align: middle;\n",
       "    }\n",
       "\n",
       "    .dataframe tbody tr th {\n",
       "        vertical-align: top;\n",
       "    }\n",
       "\n",
       "    .dataframe thead th {\n",
       "        text-align: right;\n",
       "    }\n",
       "</style>\n",
       "<table border=\"1\" class=\"dataframe\">\n",
       "  <thead>\n",
       "    <tr style=\"text-align: right;\">\n",
       "      <th></th>\n",
       "      <th>referral_date</th>\n",
       "      <th>referrer_customer_id</th>\n",
       "      <th>sign_up_customer_id</th>\n",
       "    </tr>\n",
       "  </thead>\n",
       "  <tbody>\n",
       "  </tbody>\n",
       "</table>\n",
       "</div>"
      ],
      "text/plain": [
       "Empty DataFrame\n",
       "Columns: [referral_date, referrer_customer_id, sign_up_customer_id]\n",
       "Index: []"
      ]
     },
     "execution_count": 43,
     "metadata": {},
     "output_type": "execute_result"
    }
   ],
   "source": [
    "reff[reff['sign_up_customer_id'].duplicated(keep=False)]"
   ]
  },
  {
   "cell_type": "code",
   "execution_count": 65,
   "metadata": {
    "scrolled": true
   },
   "outputs": [
    {
     "name": "stdout",
     "output_type": "stream",
     "text": [
      "referrer_customer_id\n",
      "6      11\n",
      "8      34\n",
      "10      9\n",
      "34      4\n",
      "36      9\n",
      "37      8\n",
      "54      7\n",
      "69      2\n",
      "71      2\n",
      "116     2\n",
      "117     6\n",
      "124     2\n",
      "131     2\n",
      "133     5\n",
      "140     4\n",
      "147     4\n",
      "155     4\n",
      "178     2\n",
      "214     6\n",
      "215     2\n",
      "234     2\n",
      "264     3\n",
      "292     2\n",
      "322     3\n",
      "332     4\n",
      "340     3\n",
      "352     4\n",
      "373     2\n",
      "510     2\n",
      "516     2\n",
      "531     3\n",
      "544     2\n",
      "575     2\n",
      "616     2\n",
      "652     2\n",
      "655     2\n",
      "709     2\n",
      "725     2\n",
      "Name: sign_up_customer_id, dtype: int64\n"
     ]
    }
   ],
   "source": [
    "multref = reff[reff.groupby('referrer_customer_id')['sign_up_customer_id'].transform('size') > 1]\n",
    "multref = multref.groupby('referrer_customer_id')['sign_up_customer_id'].nunique()\n",
    "print(multref)"
   ]
  },
  {
   "cell_type": "markdown",
   "metadata": {},
   "source": [
    "Customer 8 has reffered 34 people. This along with customers 6,10,36,37,54 are outliers"
   ]
  },
  {
   "cell_type": "code",
   "execution_count": 148,
   "metadata": {},
   "outputs": [
    {
     "data": {
      "text/html": [
       "<div>\n",
       "<style scoped>\n",
       "    .dataframe tbody tr th:only-of-type {\n",
       "        vertical-align: middle;\n",
       "    }\n",
       "\n",
       "    .dataframe tbody tr th {\n",
       "        vertical-align: top;\n",
       "    }\n",
       "\n",
       "    .dataframe thead th {\n",
       "        text-align: right;\n",
       "    }\n",
       "</style>\n",
       "<table border=\"1\" class=\"dataframe\">\n",
       "  <thead>\n",
       "    <tr style=\"text-align: right;\">\n",
       "      <th></th>\n",
       "      <th>referral_date</th>\n",
       "      <th>referrer_customer_id</th>\n",
       "      <th>sign_up_customer_id</th>\n",
       "      <th>customer_id</th>\n",
       "      <th>sign_up_date</th>\n",
       "      <th>sign_up_channel</th>\n",
       "    </tr>\n",
       "  </thead>\n",
       "  <tbody>\n",
       "    <tr>\n",
       "      <th>0</th>\n",
       "      <td>2021-07-18</td>\n",
       "      <td>795</td>\n",
       "      <td>1771</td>\n",
       "      <td>795</td>\n",
       "      <td>2021-03-03</td>\n",
       "      <td>Price Comparison Website</td>\n",
       "    </tr>\n",
       "    <tr>\n",
       "      <th>1</th>\n",
       "      <td>2021-04-12</td>\n",
       "      <td>577</td>\n",
       "      <td>1510</td>\n",
       "      <td>577</td>\n",
       "      <td>2021-03-28</td>\n",
       "      <td>Price Comparison Website</td>\n",
       "    </tr>\n",
       "    <tr>\n",
       "      <th>2</th>\n",
       "      <td>2021-07-07</td>\n",
       "      <td>868</td>\n",
       "      <td>1858</td>\n",
       "      <td>868</td>\n",
       "      <td>2021-03-07</td>\n",
       "      <td>Bulb Website</td>\n",
       "    </tr>\n",
       "    <tr>\n",
       "      <th>3</th>\n",
       "      <td>2021-10-25</td>\n",
       "      <td>801</td>\n",
       "      <td>1778</td>\n",
       "      <td>801</td>\n",
       "      <td>2021-04-30</td>\n",
       "      <td>Referral</td>\n",
       "    </tr>\n",
       "    <tr>\n",
       "      <th>4</th>\n",
       "      <td>2021-08-15</td>\n",
       "      <td>690</td>\n",
       "      <td>1637</td>\n",
       "      <td>690</td>\n",
       "      <td>2021-07-29</td>\n",
       "      <td>Price Comparison Website</td>\n",
       "    </tr>\n",
       "  </tbody>\n",
       "</table>\n",
       "</div>"
      ],
      "text/plain": [
       "  referral_date  referrer_customer_id  sign_up_customer_id  customer_id  \\\n",
       "0    2021-07-18                   795                 1771          795   \n",
       "1    2021-04-12                   577                 1510          577   \n",
       "2    2021-07-07                   868                 1858          868   \n",
       "3    2021-10-25                   801                 1778          801   \n",
       "4    2021-08-15                   690                 1637          690   \n",
       "\n",
       "  sign_up_date           sign_up_channel  \n",
       "0   2021-03-03  Price Comparison Website  \n",
       "1   2021-03-28  Price Comparison Website  \n",
       "2   2021-03-07              Bulb Website  \n",
       "3   2021-04-30                  Referral  \n",
       "4   2021-07-29  Price Comparison Website  "
      ]
     },
     "execution_count": 148,
     "metadata": {},
     "output_type": "execute_result"
    }
   ],
   "source": [
    "custref = pd.merge(reff, cust, left_on='referrer_customer_id', right_on='customer_id',how='inner')\n",
    "custref.head()"
   ]
  },
  {
   "cell_type": "code",
   "execution_count": 149,
   "metadata": {},
   "outputs": [
    {
     "data": {
      "text/plain": [
       "(832, 6)"
      ]
     },
     "execution_count": 149,
     "metadata": {},
     "output_type": "execute_result"
    }
   ],
   "source": [
    "custref.shape"
   ]
  },
  {
   "cell_type": "markdown",
   "metadata": {},
   "source": [
    "832 signed up customers are available on the referral data"
   ]
  },
  {
   "cell_type": "code",
   "execution_count": 175,
   "metadata": {},
   "outputs": [],
   "source": [
    "custref['referral_date'] = pd.to_datetime(custref['referral_date'], format='%Y-%m-%d')\n",
    "custref['sign_up_date'] = pd.to_datetime(custref['sign_up_date'], format='%Y-%m-%d')\n",
    "custref['days_to_referral']=custref['referral_date']-custref['sign_up_date']"
   ]
  },
  {
   "cell_type": "code",
   "execution_count": 176,
   "metadata": {},
   "outputs": [
    {
     "data": {
      "text/html": [
       "<div>\n",
       "<style scoped>\n",
       "    .dataframe tbody tr th:only-of-type {\n",
       "        vertical-align: middle;\n",
       "    }\n",
       "\n",
       "    .dataframe tbody tr th {\n",
       "        vertical-align: top;\n",
       "    }\n",
       "\n",
       "    .dataframe thead th {\n",
       "        text-align: right;\n",
       "    }\n",
       "</style>\n",
       "<table border=\"1\" class=\"dataframe\">\n",
       "  <thead>\n",
       "    <tr style=\"text-align: right;\">\n",
       "      <th></th>\n",
       "      <th>referral_date</th>\n",
       "      <th>referrer_customer_id</th>\n",
       "      <th>sign_up_customer_id</th>\n",
       "      <th>customer_id</th>\n",
       "      <th>sign_up_date</th>\n",
       "      <th>sign_up_channel</th>\n",
       "      <th>days_to_referral</th>\n",
       "    </tr>\n",
       "  </thead>\n",
       "  <tbody>\n",
       "    <tr>\n",
       "      <th>0</th>\n",
       "      <td>2021-07-18</td>\n",
       "      <td>795</td>\n",
       "      <td>1771</td>\n",
       "      <td>795</td>\n",
       "      <td>2021-03-03</td>\n",
       "      <td>Price Comparison Website</td>\n",
       "      <td>137 days</td>\n",
       "    </tr>\n",
       "    <tr>\n",
       "      <th>1</th>\n",
       "      <td>2021-04-12</td>\n",
       "      <td>577</td>\n",
       "      <td>1510</td>\n",
       "      <td>577</td>\n",
       "      <td>2021-03-28</td>\n",
       "      <td>Price Comparison Website</td>\n",
       "      <td>15 days</td>\n",
       "    </tr>\n",
       "    <tr>\n",
       "      <th>2</th>\n",
       "      <td>2021-07-07</td>\n",
       "      <td>868</td>\n",
       "      <td>1858</td>\n",
       "      <td>868</td>\n",
       "      <td>2021-03-07</td>\n",
       "      <td>Bulb Website</td>\n",
       "      <td>122 days</td>\n",
       "    </tr>\n",
       "    <tr>\n",
       "      <th>3</th>\n",
       "      <td>2021-10-25</td>\n",
       "      <td>801</td>\n",
       "      <td>1778</td>\n",
       "      <td>801</td>\n",
       "      <td>2021-04-30</td>\n",
       "      <td>Referral</td>\n",
       "      <td>178 days</td>\n",
       "    </tr>\n",
       "    <tr>\n",
       "      <th>4</th>\n",
       "      <td>2021-08-15</td>\n",
       "      <td>690</td>\n",
       "      <td>1637</td>\n",
       "      <td>690</td>\n",
       "      <td>2021-07-29</td>\n",
       "      <td>Price Comparison Website</td>\n",
       "      <td>17 days</td>\n",
       "    </tr>\n",
       "  </tbody>\n",
       "</table>\n",
       "</div>"
      ],
      "text/plain": [
       "  referral_date  referrer_customer_id  sign_up_customer_id  customer_id  \\\n",
       "0    2021-07-18                   795                 1771          795   \n",
       "1    2021-04-12                   577                 1510          577   \n",
       "2    2021-07-07                   868                 1858          868   \n",
       "3    2021-10-25                   801                 1778          801   \n",
       "4    2021-08-15                   690                 1637          690   \n",
       "\n",
       "  sign_up_date           sign_up_channel days_to_referral  \n",
       "0   2021-03-03  Price Comparison Website         137 days  \n",
       "1   2021-03-28  Price Comparison Website          15 days  \n",
       "2   2021-03-07              Bulb Website         122 days  \n",
       "3   2021-04-30                  Referral         178 days  \n",
       "4   2021-07-29  Price Comparison Website          17 days  "
      ]
     },
     "execution_count": 176,
     "metadata": {},
     "output_type": "execute_result"
    }
   ],
   "source": [
    "custref.head()"
   ]
  },
  {
   "cell_type": "code",
   "execution_count": 177,
   "metadata": {},
   "outputs": [
    {
     "name": "stdout",
     "output_type": "stream",
     "text": [
      "113.65384615384616\n"
     ]
    }
   ],
   "source": [
    "mean_ref_time=custref['days_to_referral'].dt.days.mean()\n",
    "print(mean_ref_time)"
   ]
  },
  {
   "cell_type": "code",
   "execution_count": 178,
   "metadata": {},
   "outputs": [
    {
     "name": "stdout",
     "output_type": "stream",
     "text": [
      "112.99626900165335\n"
     ]
    }
   ],
   "source": [
    "std_ref_time=custref['days_to_referral'].dt.days.std()\n",
    "print(std_ref_time)"
   ]
  },
  {
   "cell_type": "markdown",
   "metadata": {},
   "source": [
    "The standard deviation around the mean is high"
   ]
  },
  {
   "cell_type": "code",
   "execution_count": 179,
   "metadata": {},
   "outputs": [
    {
     "name": "stderr",
     "output_type": "stream",
     "text": [
      "C:\\Users\\murfe\\Anaconda3\\lib\\site-packages\\sklearn\\utils\\validation.py:475: DataConversionWarning: Data with input dtype timedelta64[ns] was converted to float64 by MinMaxScaler.\n",
      "  warnings.warn(msg, DataConversionWarning)\n"
     ]
    },
    {
     "data": {
      "text/html": [
       "<div>\n",
       "<style scoped>\n",
       "    .dataframe tbody tr th:only-of-type {\n",
       "        vertical-align: middle;\n",
       "    }\n",
       "\n",
       "    .dataframe tbody tr th {\n",
       "        vertical-align: top;\n",
       "    }\n",
       "\n",
       "    .dataframe thead th {\n",
       "        text-align: right;\n",
       "    }\n",
       "</style>\n",
       "<table border=\"1\" class=\"dataframe\">\n",
       "  <thead>\n",
       "    <tr style=\"text-align: right;\">\n",
       "      <th></th>\n",
       "      <th>referral_date</th>\n",
       "      <th>referrer_customer_id</th>\n",
       "      <th>sign_up_customer_id</th>\n",
       "      <th>customer_id</th>\n",
       "      <th>sign_up_date</th>\n",
       "      <th>sign_up_channel</th>\n",
       "      <th>days_to_referral</th>\n",
       "      <th>refdays_score</th>\n",
       "    </tr>\n",
       "  </thead>\n",
       "  <tbody>\n",
       "    <tr>\n",
       "      <th>0</th>\n",
       "      <td>2021-07-18</td>\n",
       "      <td>795</td>\n",
       "      <td>1771</td>\n",
       "      <td>795</td>\n",
       "      <td>2021-03-03</td>\n",
       "      <td>Price Comparison Website</td>\n",
       "      <td>137 days</td>\n",
       "      <td>0.195714</td>\n",
       "    </tr>\n",
       "    <tr>\n",
       "      <th>1</th>\n",
       "      <td>2021-04-12</td>\n",
       "      <td>577</td>\n",
       "      <td>1510</td>\n",
       "      <td>577</td>\n",
       "      <td>2021-03-28</td>\n",
       "      <td>Price Comparison Website</td>\n",
       "      <td>15 days</td>\n",
       "      <td>0.021429</td>\n",
       "    </tr>\n",
       "    <tr>\n",
       "      <th>2</th>\n",
       "      <td>2021-07-07</td>\n",
       "      <td>868</td>\n",
       "      <td>1858</td>\n",
       "      <td>868</td>\n",
       "      <td>2021-03-07</td>\n",
       "      <td>Bulb Website</td>\n",
       "      <td>122 days</td>\n",
       "      <td>0.174286</td>\n",
       "    </tr>\n",
       "    <tr>\n",
       "      <th>3</th>\n",
       "      <td>2021-10-25</td>\n",
       "      <td>801</td>\n",
       "      <td>1778</td>\n",
       "      <td>801</td>\n",
       "      <td>2021-04-30</td>\n",
       "      <td>Referral</td>\n",
       "      <td>178 days</td>\n",
       "      <td>0.254286</td>\n",
       "    </tr>\n",
       "    <tr>\n",
       "      <th>4</th>\n",
       "      <td>2021-08-15</td>\n",
       "      <td>690</td>\n",
       "      <td>1637</td>\n",
       "      <td>690</td>\n",
       "      <td>2021-07-29</td>\n",
       "      <td>Price Comparison Website</td>\n",
       "      <td>17 days</td>\n",
       "      <td>0.024286</td>\n",
       "    </tr>\n",
       "  </tbody>\n",
       "</table>\n",
       "</div>"
      ],
      "text/plain": [
       "  referral_date  referrer_customer_id  sign_up_customer_id  customer_id  \\\n",
       "0    2021-07-18                   795                 1771          795   \n",
       "1    2021-04-12                   577                 1510          577   \n",
       "2    2021-07-07                   868                 1858          868   \n",
       "3    2021-10-25                   801                 1778          801   \n",
       "4    2021-08-15                   690                 1637          690   \n",
       "\n",
       "  sign_up_date           sign_up_channel days_to_referral  refdays_score  \n",
       "0   2021-03-03  Price Comparison Website         137 days       0.195714  \n",
       "1   2021-03-28  Price Comparison Website          15 days       0.021429  \n",
       "2   2021-03-07              Bulb Website         122 days       0.174286  \n",
       "3   2021-04-30                  Referral         178 days       0.254286  \n",
       "4   2021-07-29  Price Comparison Website          17 days       0.024286  "
      ]
     },
     "execution_count": 179,
     "metadata": {},
     "output_type": "execute_result"
    }
   ],
   "source": [
    "scaler = prep.MinMaxScaler()\n",
    "custref['refdays_score']=scaler.fit_transform(custref.days_to_referral.to_numpy().reshape(-1,1))\n",
    "custref.head()"
   ]
  },
  {
   "cell_type": "code",
   "execution_count": 184,
   "metadata": {},
   "outputs": [
    {
     "data": {
      "text/html": [
       "<div>\n",
       "<style scoped>\n",
       "    .dataframe tbody tr th:only-of-type {\n",
       "        vertical-align: middle;\n",
       "    }\n",
       "\n",
       "    .dataframe tbody tr th {\n",
       "        vertical-align: top;\n",
       "    }\n",
       "\n",
       "    .dataframe thead th {\n",
       "        text-align: right;\n",
       "    }\n",
       "</style>\n",
       "<table border=\"1\" class=\"dataframe\">\n",
       "  <thead>\n",
       "    <tr style=\"text-align: right;\">\n",
       "      <th></th>\n",
       "      <th>referral_date</th>\n",
       "      <th>referrer_customer_id</th>\n",
       "      <th>sign_up_customer_id</th>\n",
       "      <th>customer_id</th>\n",
       "      <th>sign_up_date</th>\n",
       "      <th>sign_up_channel</th>\n",
       "      <th>days_to_referral</th>\n",
       "      <th>refdays_score</th>\n",
       "      <th>calcdaystoref</th>\n",
       "    </tr>\n",
       "  </thead>\n",
       "  <tbody>\n",
       "    <tr>\n",
       "      <th>0</th>\n",
       "      <td>2021-07-18</td>\n",
       "      <td>795</td>\n",
       "      <td>1771</td>\n",
       "      <td>795</td>\n",
       "      <td>2021-03-03</td>\n",
       "      <td>Price Comparison Website</td>\n",
       "      <td>137 days</td>\n",
       "      <td>0.195714</td>\n",
       "      <td>0.206610</td>\n",
       "    </tr>\n",
       "    <tr>\n",
       "      <th>1</th>\n",
       "      <td>2021-04-12</td>\n",
       "      <td>577</td>\n",
       "      <td>1510</td>\n",
       "      <td>577</td>\n",
       "      <td>2021-03-28</td>\n",
       "      <td>Price Comparison Website</td>\n",
       "      <td>15 days</td>\n",
       "      <td>0.021429</td>\n",
       "      <td>-0.873072</td>\n",
       "    </tr>\n",
       "    <tr>\n",
       "      <th>2</th>\n",
       "      <td>2021-07-07</td>\n",
       "      <td>868</td>\n",
       "      <td>1858</td>\n",
       "      <td>868</td>\n",
       "      <td>2021-03-07</td>\n",
       "      <td>Bulb Website</td>\n",
       "      <td>122 days</td>\n",
       "      <td>0.174286</td>\n",
       "      <td>0.073862</td>\n",
       "    </tr>\n",
       "    <tr>\n",
       "      <th>3</th>\n",
       "      <td>2021-10-25</td>\n",
       "      <td>801</td>\n",
       "      <td>1778</td>\n",
       "      <td>801</td>\n",
       "      <td>2021-04-30</td>\n",
       "      <td>Referral</td>\n",
       "      <td>178 days</td>\n",
       "      <td>0.254286</td>\n",
       "      <td>0.569454</td>\n",
       "    </tr>\n",
       "    <tr>\n",
       "      <th>4</th>\n",
       "      <td>2021-08-15</td>\n",
       "      <td>690</td>\n",
       "      <td>1637</td>\n",
       "      <td>690</td>\n",
       "      <td>2021-07-29</td>\n",
       "      <td>Price Comparison Website</td>\n",
       "      <td>17 days</td>\n",
       "      <td>0.024286</td>\n",
       "      <td>-0.855372</td>\n",
       "    </tr>\n",
       "  </tbody>\n",
       "</table>\n",
       "</div>"
      ],
      "text/plain": [
       "  referral_date  referrer_customer_id  sign_up_customer_id  customer_id  \\\n",
       "0    2021-07-18                   795                 1771          795   \n",
       "1    2021-04-12                   577                 1510          577   \n",
       "2    2021-07-07                   868                 1858          868   \n",
       "3    2021-10-25                   801                 1778          801   \n",
       "4    2021-08-15                   690                 1637          690   \n",
       "\n",
       "  sign_up_date           sign_up_channel days_to_referral  refdays_score  \\\n",
       "0   2021-03-03  Price Comparison Website         137 days       0.195714   \n",
       "1   2021-03-28  Price Comparison Website          15 days       0.021429   \n",
       "2   2021-03-07              Bulb Website         122 days       0.174286   \n",
       "3   2021-04-30                  Referral         178 days       0.254286   \n",
       "4   2021-07-29  Price Comparison Website          17 days       0.024286   \n",
       "\n",
       "   calcdaystoref  \n",
       "0       0.206610  \n",
       "1      -0.873072  \n",
       "2       0.073862  \n",
       "3       0.569454  \n",
       "4      -0.855372  "
      ]
     },
     "execution_count": 184,
     "metadata": {},
     "output_type": "execute_result"
    }
   ],
   "source": [
    "custref['calcdaystoref']=(custref['days_to_referral'].dt.days-mean_ref_time)/std_ref_time\n",
    "custref.head()"
   ]
  },
  {
   "cell_type": "code",
   "execution_count": 204,
   "metadata": {},
   "outputs": [
    {
     "data": {
      "text/plain": [
       "<matplotlib.axes._subplots.AxesSubplot at 0x1cb2adf0668>"
      ]
     },
     "execution_count": 204,
     "metadata": {},
     "output_type": "execute_result"
    },
    {
     "data": {
      "image/png": "[encoded data removed]",
      "text/plain": [
       "<matplotlib.figure.Figure at 0x1cb2ae036a0>"
      ]
     },
     "metadata": {},
     "output_type": "display_data"
    }
   ],
   "source": [
    "sns.distplot(custref['days_to_referral'].dt.days,bins=30)\n",
    "#sns.distplot(custref['days_to_referral'].dt.days, norm_hist=False, kde=False)  \n",
    "#custref['days_to_referral'].max()"
   ]
  },
  {
   "cell_type": "code",
   "execution_count": 208,
   "metadata": {},
   "outputs": [
    {
     "data": {
      "text/plain": [
       "Timedelta('83 days 12:00:00')"
      ]
     },
     "execution_count": 208,
     "metadata": {},
     "output_type": "execute_result"
    }
   ],
   "source": [
    "custref['days_to_referral'].median()"
   ]
  },
  {
   "cell_type": "markdown",
   "metadata": {},
   "source": [
    "Most referrals seem to happen within the 0 - 230 range with a median of 83 days since sign up"
   ]
  },
  {
   "cell_type": "code",
   "execution_count": 124,
   "metadata": {},
   "outputs": [],
   "source": [
    "custref.to_csv('custref.csv')"
   ]
  },
  {
   "cell_type": "code",
   "execution_count": 185,
   "metadata": {},
   "outputs": [
    {
     "data": {
      "text/plain": [
       "<matplotlib.axes._subplots.AxesSubplot at 0x1cb2aa93438>"
      ]
     },
     "execution_count": 185,
     "metadata": {},
     "output_type": "execute_result"
    },
    {
     "data": {
      "image/png": "[encoded data removed]",
      "text/plain": [
       "<matplotlib.figure.Figure at 0x1cb2aa93518>"
      ]
     },
     "metadata": {},
     "output_type": "display_data"
    }
   ],
   "source": [
    "sns.distplot(custref['calcdaystoref'])  "
   ]
  },
  {
   "cell_type": "code",
   "execution_count": 186,
   "metadata": {},
   "outputs": [
    {
     "name": "stderr",
     "output_type": "stream",
     "text": [
      "C:\\Users\\murfe\\Anaconda3\\lib\\site-packages\\sklearn\\utils\\validation.py:475: DataConversionWarning: Data with input dtype timedelta64[ns] was converted to float64 by StandardScaler.\n",
      "  warnings.warn(msg, DataConversionWarning)\n"
     ]
    },
    {
     "data": {
      "text/html": [
       "<div>\n",
       "<style scoped>\n",
       "    .dataframe tbody tr th:only-of-type {\n",
       "        vertical-align: middle;\n",
       "    }\n",
       "\n",
       "    .dataframe tbody tr th {\n",
       "        vertical-align: top;\n",
       "    }\n",
       "\n",
       "    .dataframe thead th {\n",
       "        text-align: right;\n",
       "    }\n",
       "</style>\n",
       "<table border=\"1\" class=\"dataframe\">\n",
       "  <thead>\n",
       "    <tr style=\"text-align: right;\">\n",
       "      <th></th>\n",
       "      <th>referral_date</th>\n",
       "      <th>referrer_customer_id</th>\n",
       "      <th>sign_up_customer_id</th>\n",
       "      <th>customer_id</th>\n",
       "      <th>sign_up_date</th>\n",
       "      <th>sign_up_channel</th>\n",
       "      <th>days_to_referral</th>\n",
       "      <th>refdays_score</th>\n",
       "      <th>calcdaystoref</th>\n",
       "      <th>stdscl_refdays</th>\n",
       "    </tr>\n",
       "  </thead>\n",
       "  <tbody>\n",
       "    <tr>\n",
       "      <th>0</th>\n",
       "      <td>2021-07-18</td>\n",
       "      <td>795</td>\n",
       "      <td>1771</td>\n",
       "      <td>795</td>\n",
       "      <td>2021-03-03</td>\n",
       "      <td>Price Comparison Website</td>\n",
       "      <td>137 days</td>\n",
       "      <td>0.195714</td>\n",
       "      <td>0.206610</td>\n",
       "      <td>0.206734</td>\n",
       "    </tr>\n",
       "    <tr>\n",
       "      <th>1</th>\n",
       "      <td>2021-04-12</td>\n",
       "      <td>577</td>\n",
       "      <td>1510</td>\n",
       "      <td>577</td>\n",
       "      <td>2021-03-28</td>\n",
       "      <td>Price Comparison Website</td>\n",
       "      <td>15 days</td>\n",
       "      <td>0.021429</td>\n",
       "      <td>-0.873072</td>\n",
       "      <td>-0.873597</td>\n",
       "    </tr>\n",
       "    <tr>\n",
       "      <th>2</th>\n",
       "      <td>2021-07-07</td>\n",
       "      <td>868</td>\n",
       "      <td>1858</td>\n",
       "      <td>868</td>\n",
       "      <td>2021-03-07</td>\n",
       "      <td>Bulb Website</td>\n",
       "      <td>122 days</td>\n",
       "      <td>0.174286</td>\n",
       "      <td>0.073862</td>\n",
       "      <td>0.073907</td>\n",
       "    </tr>\n",
       "    <tr>\n",
       "      <th>3</th>\n",
       "      <td>2021-10-25</td>\n",
       "      <td>801</td>\n",
       "      <td>1778</td>\n",
       "      <td>801</td>\n",
       "      <td>2021-04-30</td>\n",
       "      <td>Referral</td>\n",
       "      <td>178 days</td>\n",
       "      <td>0.254286</td>\n",
       "      <td>0.569454</td>\n",
       "      <td>0.569796</td>\n",
       "    </tr>\n",
       "    <tr>\n",
       "      <th>4</th>\n",
       "      <td>2021-08-15</td>\n",
       "      <td>690</td>\n",
       "      <td>1637</td>\n",
       "      <td>690</td>\n",
       "      <td>2021-07-29</td>\n",
       "      <td>Price Comparison Website</td>\n",
       "      <td>17 days</td>\n",
       "      <td>0.024286</td>\n",
       "      <td>-0.855372</td>\n",
       "      <td>-0.855887</td>\n",
       "    </tr>\n",
       "  </tbody>\n",
       "</table>\n",
       "</div>"
      ],
      "text/plain": [
       "  referral_date  referrer_customer_id  sign_up_customer_id  customer_id  \\\n",
       "0    2021-07-18                   795                 1771          795   \n",
       "1    2021-04-12                   577                 1510          577   \n",
       "2    2021-07-07                   868                 1858          868   \n",
       "3    2021-10-25                   801                 1778          801   \n",
       "4    2021-08-15                   690                 1637          690   \n",
       "\n",
       "  sign_up_date           sign_up_channel days_to_referral  refdays_score  \\\n",
       "0   2021-03-03  Price Comparison Website         137 days       0.195714   \n",
       "1   2021-03-28  Price Comparison Website          15 days       0.021429   \n",
       "2   2021-03-07              Bulb Website         122 days       0.174286   \n",
       "3   2021-04-30                  Referral         178 days       0.254286   \n",
       "4   2021-07-29  Price Comparison Website          17 days       0.024286   \n",
       "\n",
       "   calcdaystoref  stdscl_refdays  \n",
       "0       0.206610        0.206734  \n",
       "1      -0.873072       -0.873597  \n",
       "2       0.073862        0.073907  \n",
       "3       0.569454        0.569796  \n",
       "4      -0.855372       -0.855887  "
      ]
     },
     "execution_count": 186,
     "metadata": {},
     "output_type": "execute_result"
    }
   ],
   "source": [
    "scaler = prep.StandardScaler()\n",
    "custref['stdscl_refdays']=scaler.fit_transform(custref.days_to_referral.to_numpy().reshape(-1,1))\n",
    "custref.head()"
   ]
  },
  {
   "cell_type": "markdown",
   "metadata": {},
   "source": [
    "Since there are extremely large outliers beyond standard deviation of 1, we will plot feature with min max scaling. Min max scaling also provides the added advantage of standardising the lifecycle between 0 and 1 for the current 2-3 year timeframe being examined"
   ]
  },
  {
   "cell_type": "code",
   "execution_count": 211,
   "metadata": {},
   "outputs": [
    {
     "data": {
      "image/png": "[encoded data removed]",
      "text/plain": [
       "<matplotlib.figure.Figure at 0x1cb2af35f60>"
      ]
     },
     "metadata": {},
     "output_type": "display_data"
    }
   ],
   "source": [
    "ax=sns.distplot(custref['refdays_score']) \n",
    "ax.axvline(custref['refdays_score'].mean())\n",
    "plt.show()"
   ]
  },
  {
   "cell_type": "code",
   "execution_count": 199,
   "metadata": {},
   "outputs": [
    {
     "data": {
      "text/plain": [
       "0.16236263736263748"
      ]
     },
     "execution_count": 199,
     "metadata": {},
     "output_type": "execute_result"
    }
   ],
   "source": [
    "custref['refdays_score'].mean()"
   ]
  },
  {
   "cell_type": "markdown",
   "metadata": {},
   "source": [
    "The above data shows that on average, people make a referral within the first 16% of their lifecycle - which equates to roughly 113 days for the sample dataset. This is based on the assumption that the data represents 100% of customer lifecycle"
   ]
  },
  {
   "cell_type": "code",
   "execution_count": 200,
   "metadata": {},
   "outputs": [
    {
     "data": {
      "text/plain": [
       "sign_up_channel\n",
       "Bulb Website                0.201751\n",
       "Price Comparison Website    0.203191\n",
       "Referral                    0.128161\n",
       "Name: refdays_score, dtype: float64"
      ]
     },
     "execution_count": 200,
     "metadata": {},
     "output_type": "execute_result"
    }
   ],
   "source": [
    "custref.groupby(['sign_up_channel'])['refdays_score'].mean()"
   ]
  },
  {
   "cell_type": "code",
   "execution_count": 209,
   "metadata": {},
   "outputs": [
    {
     "data": {
      "text/plain": [
       "<matplotlib.axes._subplots.AxesSubplot at 0x1cb2adf0c18>"
      ]
     },
     "execution_count": 209,
     "metadata": {},
     "output_type": "execute_result"
    },
    {
     "data": {
      "image/png": "[encoded data removed]",
      "text/plain": [
       "<matplotlib.figure.Figure at 0x1cb2af23ac8>"
      ]
     },
     "metadata": {},
     "output_type": "display_data"
    }
   ],
   "source": [
    "custref.groupby(['sign_up_channel'])['refdays_score'].mean().plot.barh()"
   ]
  },
  {
   "cell_type": "code",
   "execution_count": 210,
   "metadata": {},
   "outputs": [
    {
     "data": {
      "text/plain": [
       "sign_up_channel\n",
       "Bulb Website                195\n",
       "Price Comparison Website    188\n",
       "Referral                    449\n",
       "dtype: int64"
      ]
     },
     "execution_count": 210,
     "metadata": {},
     "output_type": "execute_result"
    }
   ],
   "source": [
    "custref.groupby(['sign_up_channel']).size()"
   ]
  },
  {
   "cell_type": "markdown",
   "metadata": {},
   "source": [
    "### Conclusions"
   ]
  },
  {
   "cell_type": "markdown",
   "metadata": {},
   "source": [
    "#### Sample Data Limitations\n",
    "\n",
    "- Bulb is a high growth firm and the customer numbers and demographic is prone to change heavily as new members sign up. Customer demographic data of new sign ups will give us more confidence on inferences made here if the demographics are stable\n",
    "- Sample data will need to be scrubbed further for outliers such as customers that have referred a relatively large number of sign ups. For example, the days taken by customer 8 to make multiple referrals could be reduced to a single mean value or removing the customers that took more than a year (365 days) to refer \n",
    "- Sample data is spread across 2 years and 8 months for sign ups and roughly 2 years for referrals. These two datasets are assumed to be mutually consistent when obtained (ie. represent the same time interval or that referral data was obtained using sign up data for that time interval)\n",
    "- Large outliers in the time to referral feature suggest the distributions of referral times has too high a standard deviation (112 days) and cannot be normalised. This can be fixed with injecting more data from population into this model\n",
    "- As Bulb is only 5 years old and this data covers roughly half that time and still has a high variance, more data will need to be systematically obtained for a more precise measurement with a low variance\n",
    "- It is also not very clear from the data provided what \"today's\" date is - so that current vaules of lifetimes could be gauged"
   ]
  },
  {
   "cell_type": "markdown",
   "metadata": {},
   "source": [
    "#### Inferences\n",
    "Taking the limitations of sample data into account including any biases\n",
    "\n",
    "##### When do members refer?\n",
    "- The mean time taken for a customer to refer another customer from the day they sign up is within 4/25 of their lifespan or within the first 16 days if their lifetime was normalised to a 100 days. The mean time taken for customers to make a referral is 113 days with a median of 83 days\n",
    "\n",
    "##### Who refers the most?\n",
    "- The sample data suggests that members who are signed up through referrals seem to be the ones more likely to refer sooner than the ones aquired via websites\n",
    "- Referral acquired customers also refer the most compared with ones acquired on websites\n",
    "\n",
    "##### Email strategy\n",
    "- Targetted emails about referrals should be sent at the end of the first 3 months (first quarter) of their life with Bulb and until about 7 months (230 days). This is the interval with most referrals\n",
    "- Customers obtained via referrals should be targetted with a campaign/offer\n",
    "- A hypothesis testing model or regression model can be created to learn real time from additional data and automate the email broadcast"
   ]
  }
 ],
 "metadata": {
  "kernelspec": {
   "display_name": "Python 3",
   "language": "python",
   "name": "python3"
  },
  "language_info": {
   "codemirror_mode": {
    "name": "ipython",
    "version": 3
   },
   "file_extension": ".py",
   "mimetype": "text/x-python",
   "name": "python",
   "nbconvert_exporter": "python",
   "pygments_lexer": "ipython3",
   "version": "3.6.4"
  }
 },
 "nbformat": 4,
 "nbformat_minor": 2
}
